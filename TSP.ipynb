{
 "cells": [
  {
   "attachments": {},
   "cell_type": "markdown",
   "metadata": {},
   "source": [
    "# TSP \n",
    "In this document we will analyze the travelling salesman problem.\n",
    "\n",
    "Author: Luca Fabbian <luca.fabbian.1999@gmail.com>"
   ]
  },
  {
   "cell_type": "code",
   "execution_count": 1,
   "metadata": {},
   "outputs": [],
   "source": [
    "// $$ipycpp_file: src/main.cpp\n",
    "// $$ipycpp_build: TSP_FILE=\"./data/test2.tsp\" mkdir -p bin && g++ -o3 -o bin/main src/main.cpp -fopenmp\n",
    "// $$ipycpp_run: bin/main\n",
    "\n",
    "#include <stdio.h>\n",
    "#include <string.h>\n",
    "#include <stdlib.h>\n",
    "#include <math.h>\n",
    "#include <time.h>\n",
    "#include <stdbool.h>\n",
    "#include <memory.h>\n",
    "#include <omp.h>\n",
    "#include <mutex>\n",
    "\n",
    "\n",
    "#include \"tsp.cpp\"\n",
    "#include \"heuristic.cpp\"\n",
    "\n",
    "void allPossibleStartsSingleThread(const TSP &tsp){\n",
    "\n",
    "\t// start clock\n",
    "\tclock_t start = clock();\n",
    "\n",
    "\t// try every possible starting point\n",
    "\tTSPSolution *minSol = new TSPSolution(&tsp);\n",
    "\tsolveGreed(minSol);\n",
    "\tint minIndex = 0;\n",
    "\n",
    "\tTSPSolution *challenger = new TSPSolution(&tsp);\n",
    "\n",
    "\tfor(int i = 1; i < tsp.dim; i++){\n",
    "\tsolveGreed(challenger, i);\n",
    "\t\tif(challenger->cost < minSol->cost){\n",
    "\t\t\tauto tmp = minSol;\n",
    "\t\t\tminSol = challenger;\n",
    "\t\t\tchallenger = tmp;\n",
    "\t\t\tminIndex = i;\n",
    "\t\t}\n",
    "\t}\n",
    "\t\n",
    "\n",
    "\t// stop timer\n",
    "\tclock_t end = clock();\n",
    "\tdouble time = (double)(end - start) / CLOCKS_PER_SEC;\n",
    "\n",
    "\t// print solution cost\n",
    "\tprintf(\"starting point = %d, cost = %d\\n\", minIndex, minSol->cost);\n",
    "\t//print time\n",
    "\tprintf(\"time = %f\\n\", time);\n",
    "\n",
    "\t// plot points\n",
    "\tminSol->plot(true);\n",
    "\n",
    "}\n",
    "\n",
    "void allPossibleStartsParallel(const TSP &tsp){\n",
    "\tstd::mutex mtx;\n",
    "\n",
    "\t// start clock\n",
    "\tclock_t start = clock();\n",
    "\n",
    "\t// try every possible starting point\n",
    "\tTSPSolution *minSol = new TSPSolution(&tsp);\n",
    "\tsolveGreed(minSol);\n",
    "\tint minIndex = 0;\n",
    "\n",
    "\n",
    "\t#pragma omp parallel num_threads(8)\n",
    "\t{\n",
    "\t\tprintf(\"New thread\\n\");\n",
    "\t\tTSPSolution *challenger = new TSPSolution(&tsp);\n",
    "\t\t#pragma omp for\n",
    "\t\tfor(int i = 1; i < tsp.dim; i++){\n",
    "\t\t\tchallenger->fill();\n",
    "\t\t\tsolveGreed(challenger, i);\n",
    "\t\t\t#pragma omp critical\n",
    "\t\t\tif(challenger->cost < minSol->cost){\n",
    "\t\t\t\tauto tmp = minSol;\n",
    "\t\t\t\tminSol = challenger;\n",
    "\t\t\t\tchallenger = tmp;\n",
    "\t\t\t\tminIndex = i;\n",
    "\t\t\t}\n",
    "\t\t}\n",
    "\n",
    "\t}\n",
    "\n",
    "\n",
    "\t// stop timer\n",
    "\tclock_t end = clock();\n",
    "\tdouble time = (double)(end - start) / CLOCKS_PER_SEC;\n",
    "\n",
    "\t// print solution cost\n",
    "\tprintf(\"starting point = %d, cost = %d\\n\", minIndex, minSol->cost);\n",
    "\t//print time\n",
    "\tprintf(\"time = %f\\n\", time);\n",
    "\n",
    "\t// plot points\n",
    "\tminSol->plot(true);\n",
    "\n",
    "}\n"
   ]
  },
  {
   "cell_type": "code",
   "execution_count": 5,
   "metadata": {},
   "outputs": [
    {
     "data": {
      "text/html": [
       "\n",
       "\n",
       "<div class=\"widgetcontainer\">\n",
       "\t<div class=\"widget\" v-scope=\"{ count: 0 }\">\n",
       "\t\t<button @click=\"count--\">-</button>\n",
       "\t\t{{ count }}\n",
       "\t\t<button @click=\"count++\">+</button>\n",
       "\t</div>\n",
       "\n",
       "\t<script>\n",
       "\tif(!window.INSTALL_PETITE_VUE){\n",
       "\t\twindow.INSTALL_PETITE_VUE = true;\n",
       "\t\tvar script = document.createElement('script');\n",
       "\t\tscript.src = 'https://unpkg.com/petite-vue';\n",
       "\t\tdocument.head.appendChild(script);\n",
       "\t}\n",
       "\n",
       "\tPetiteVue.createApp().mount(document.currentScript.previousElementSibling)\n",
       "\t</script>\n",
       "</div>\n",
       "\n"
      ]
     },
     "metadata": {
      "text/html": {}
     },
     "output_type": "display_data"
    }
   ],
   "source": [
    "auto html = R\"\"\"\"(\n",
    "\n",
    "<div class=\"widgetcontainer\">\n",
    "\t<div class=\"widget\" v-scope=\"{ count: 0 }\">\n",
    "\t\t<button @click=\"count--\">-</button>\n",
    "\t\t{{ count }}\n",
    "\t\t<button @click=\"count++\">+</button>\n",
    "\t</div>\n",
    "\n",
    "\t<script>\n",
    "\tif(!window.INSTALL_PETITE_VUE){\n",
    "\t\twindow.INSTALL_PETITE_VUE = true;\n",
    "\t\tvar script = document.createElement('script');\n",
    "\t\tscript.src = 'https://unpkg.com/petite-vue';\n",
    "\t\tdocument.head.appendChild(script);\n",
    "\t}\n",
    "\n",
    "\tPetiteVue.createApp().mount(document.currentScript.previousElementSibling)\n",
    "\t</script>\n",
    "</div>\n",
    ")\"\"\"\";\n",
    "\n",
    "#ifdef IPYCPP_MAIN\n",
    "#define IPYCPP_MAIN_METHOD\n",
    "int main(){\n",
    "\tprintf(\"$$$ipycppr_html_start$$$\\n%s\\n$$$ipycppr_html_end$$$\\n\", html);\n",
    "}\n",
    "#endif"
   ]
  },
  {
   "cell_type": "code",
   "execution_count": 6,
   "metadata": {},
   "outputs": [
    {
     "data": {
      "text/html": [
       "\n",
       "\n",
       "<div class=\"widgetcontainer\">\n",
       "\t<div class=\"widget\" v-scope=\"{ count: 0 }\">\n",
       "\t\t<button @click=\"count--\">-</button>\n",
       "\t\t{{ count }}\n",
       "\t\t<button @click=\"count++\">+</button>\n",
       "\t</div>\n",
       "\n",
       "\t<script>\n",
       "\tif(!window.INSTALL_PETITE_VUE){\n",
       "\t\twindow.INSTALL_PETITE_VUE = true;\n",
       "\t\tvar script = document.createElement('script');\n",
       "\t\tscript.src = 'https://unpkg.com/petite-vue';\n",
       "\t\tdocument.head.appendChild(script);\n",
       "\t}\n",
       "\n",
       "\tPetiteVue.createApp().mount(document.currentScript.previousElementSibling)\n",
       "\t</script>\n",
       "</div>\n",
       "\n"
      ]
     },
     "metadata": {
      "text/html": {}
     },
     "output_type": "display_data"
    },
    {
     "data": {
      "text/html": [
       "\n",
       "\n",
       "<div class=\"widgetcontainer\">\n",
       "\t<div class=\"widget\" v-scope=\"{ count: 0 }\">\n",
       "\t\t<button @click=\"count--\">-</button>\n",
       "\t\t{{ count }}\n",
       "\t\t<button @click=\"count++\">+</button>\n",
       "\t</div>\n",
       "\n",
       "\t<script>\n",
       "\tif(!window.INSTALL_PETITE_VUE){\n",
       "\t\twindow.INSTALL_PETITE_VUE = true;\n",
       "\t\tvar script = document.createElement('script');\n",
       "\t\tscript.src = 'https://unpkg.com/petite-vue';\n",
       "\t\tdocument.head.appendChild(script);\n",
       "\t}\n",
       "\n",
       "\tPetiteVue.createApp().mount(document.currentScript.previousElementSibling)\n",
       "\t</script>\n",
       "</div>\n",
       "\n"
      ]
     },
     "metadata": {
      "text/html": {}
     },
     "output_type": "display_data"
    }
   ],
   "source": [
    "#ifdef IPYCPP_MAIN\n",
    "#define IPYCPP_MAIN_METHOD\n",
    "int main(){\n",
    "\tprintf(\"$$$ipycppr_html_start$$$\\n%s\\n$$$ipycppr_html_end$$$\\n\", html);\n",
    "\tprintf(\"$$$ipycppr_html_start$$$\\n%s\\n$$$ipycppr_html_end$$$\\n\", html);\n",
    "}\n",
    "#endif"
   ]
  },
  {
   "cell_type": "code",
   "execution_count": 4,
   "metadata": {},
   "outputs": [
    {
     "name": "stdout",
     "output_type": "stream",
     "text": [
      "dim = 5\n",
      "New thread\n",
      "New thread\n",
      "New thread\n",
      "New thread\n",
      "New thread\n",
      "New thread\n",
      "New thread\n",
      "New thread\n",
      "starting point = 0, cost = 10242\n",
      "time = 0.001698\n"
     ]
    },
    {
     "data": {
      "image/png": "[encoded data removed]"
     },
     "metadata": {
      "image/png": {}
     },
     "output_type": "display_data"
    }
   ],
   "source": [
    "\n",
    "\n",
    "#ifdef IPYCPP_MAIN\n",
    "#define IPYCPP_MAIN_METHOD\n",
    "int main(){\n",
    "\tTSP tsp(\"./data/test.tsp\");\n",
    "\n",
    "\t// initialize random seed\n",
    "\tsrand(2306654);\n",
    "\tallPossibleStartsParallel(tsp);\n",
    "}\n",
    "#endif"
   ]
  },
  {
   "cell_type": "markdown",
   "metadata": {},
   "source": []
  }
 ],
 "metadata": {
  "kernelspec": {
   "display_name": "ipycpp",
   "language": "cpp",
   "name": "ipycpp"
  },
  "language_info": {
   "file_extension": ".cpp",
   "mimetype": "text/x-c",
   "name": "cpp"
  },
  "orig_nbformat": 4
 },
 "nbformat": 4,
 "nbformat_minor": 2
}
