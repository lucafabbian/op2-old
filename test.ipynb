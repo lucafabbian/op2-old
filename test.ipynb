{
 "cells": [
  {
   "attachments": {},
   "cell_type": "markdown",
   "metadata": {},
   "source": [
    "# TSP \n"
   ]
  },
  {
   "cell_type": "code",
   "execution_count": 1,
   "metadata": {
    "vscode": {
     "languageId": "cpp"
    }
   },
   "outputs": [],
   "source": [
    "// $$ipycpp_file: src/main.cpp\n",
    "// $$ipycpp_build: TSP_FILE=\"./data/test2.tsp\" mkdir -p bin && g++ -o3 -o bin/main src/main.cpp -fopenmp\n",
    "// $$ipycpp_run: bin/main\n",
    "\n",
    "#include <stdio.h>\n",
    "#include <string.h>\n",
    "#include <stdlib.h>\n",
    "#include <math.h>\n",
    "#include <time.h>\n",
    "#include <stdbool.h>\n",
    "#include <memory.h>\n",
    "#include <omp.h>\n",
    "#include <mutex>\n",
    "\n",
    "\n",
    "#include \"tsp.cpp\"\n",
    "#include \"heuristic.cpp\"\n",
    "\n",
    "void allPossibleStartsSingleThread(const TSP &tsp){\n",
    "\n",
    "\t// start clock\n",
    "\tclock_t start = clock();\n",
    "\n",
    "\t// try every possible starting point\n",
    "\tTSPSolution *minSol = new TSPSolution(&tsp);\n",
    "\tsolveGreed(minSol);\n",
    "\tint minIndex = 0;\n",
    "\n",
    "\tTSPSolution *challenger = new TSPSolution(&tsp);\n",
    "\n",
    "\tfor(int i = 1; i < tsp.dim; i++){\n",
    "\tsolveGreed(challenger, i);\n",
    "\t\tif(challenger->cost < minSol->cost){\n",
    "\t\t\tauto tmp = minSol;\n",
    "\t\t\tminSol = challenger;\n",
    "\t\t\tchallenger = tmp;\n",
    "\t\t\tminIndex = i;\n",
    "\t\t}\n",
    "\t}\n",
    "\t\n",
    "\n",
    "\t// stop timer\n",
    "\tclock_t end = clock();\n",
    "\tdouble time = (double)(end - start) / CLOCKS_PER_SEC;\n",
    "\n",
    "\t// print solution cost\n",
    "\tprintf(\"starting point = %d, cost = %d\\n\", minIndex, minSol->cost);\n",
    "\t//print time\n",
    "\tprintf(\"time = %f\\n\", time);\n",
    "\n",
    "\t// plot points\n",
    "\tminSol->plot(true);\n",
    "\n",
    "}\n",
    "\n",
    "void allPossibleStartsParallel(const TSP &tsp){\n",
    "\tstd::mutex mtx;\n",
    "\n",
    "\t// start clock\n",
    "\tclock_t start = clock();\n",
    "\n",
    "\t// try every possible starting point\n",
    "\tTSPSolution *minSol = new TSPSolution(&tsp);\n",
    "\tsolveGreed(minSol);\n",
    "\tint minIndex = 0;\n",
    "\n",
    "\n",
    "\t#pragma omp parallel num_threads(8)\n",
    "\t{\n",
    "\t\tprintf(\"New thread\\n\");\n",
    "\t\tTSPSolution *challenger = new TSPSolution(&tsp);\n",
    "\t\t#pragma omp for\n",
    "\t\tfor(int i = 1; i < tsp.dim; i++){\n",
    "\t\t\tchallenger->fill();\n",
    "\t\t\tsolveGreed(challenger, i);\n",
    "\t\t\t#pragma omp critical\n",
    "\t\t\tif(challenger->cost < minSol->cost){\n",
    "\t\t\t\tauto tmp = minSol;\n",
    "\t\t\t\tminSol = challenger;\n",
    "\t\t\t\tchallenger = tmp;\n",
    "\t\t\t\tminIndex = i;\n",
    "\t\t\t}\n",
    "\t\t}\n",
    "\n",
    "\t}\n",
    "\n",
    "\n",
    "\t// stop timer\n",
    "\tclock_t end = clock();\n",
    "\tdouble time = (double)(end - start) / CLOCKS_PER_SEC;\n",
    "\n",
    "\t// print solution cost\n",
    "\tprintf(\"starting point = %d, cost = %d\\n\", minIndex, minSol->cost);\n",
    "\t//print time\n",
    "\tprintf(\"time = %f\\n\", time);\n",
    "\n",
    "\t// plot points\n",
    "\tminSol->plot(true);\n",
    "\n",
    "}\n"
   ]
  },
  {
   "cell_type": "code",
   "execution_count": 2,
   "metadata": {
    "vscode": {
     "languageId": "cpp"
    }
   },
   "outputs": [],
   "source": [
    "#ifdef IPYCPP_MAIN\n",
    "#define IPYCPP_MAIN_METHOD\n",
    "int main(){\n",
    "\tTSP tsp(\"./data/test.tsp\");\n",
    "\n",
    "\t// initialize random seed\n",
    "\tsrand(2306654);\n",
    "\tallPossibleStartsParallel(tsp);\n",
    "\n",
    "\treturn 0;\n",
    "}\n",
    "#endif"
   ]
  },
  {
   "cell_type": "markdown",
   "metadata": {},
   "source": []
  }
 ],
 "metadata": {
  "kernelspec": {
   "display_name": "ipycpp",
   "language": "cpp",
   "name": "ipycpp"
  },
  "language_info": {
   "file_extension": ".cpp",
   "mimetype": "text/cpp",
   "name": "Cpp files"
  },
  "orig_nbformat": 4
 },
 "nbformat": 4,
 "nbformat_minor": 2
}
