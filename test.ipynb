{
 "cells": [
  {
   "cell_type": "code",
   "execution_count": 1,
   "metadata": {
    "vscode": {
     "languageId": "cpp"
    }
   },
   "outputs": [
    {
     "name": "stdout",
     "output_type": "stream",
     "text": [
      "// $$jcpp_file: src/main.cpp\n",
      "// $$jcpp_build: mkdir -p bin && g++ -o3 -o bin/main src/main.cpp -fopenmp && TSP_FILE=\"./data/test.tsp\" bin/main\n",
      "\n",
      "\n",
      "#IFDEF JCPP_MAIN\n",
      "#DEFINE JCPP_MAIN_METHOD\n",
      "int main(){\n",
      "\t\tstd::cout << \"Hello World\" << std::endl;\n",
      "\t\treturn 0;\n",
      "}\n",
      "\n",
      "\n",
      "#ENDIF\n",
      "\n",
      " world vscode-notebook-cell:/lfiles/op2/main/test.ipynb#W0sZmlsZQ%3D%3D\n",
      "src/main.cpp"
     ]
    }
   ],
   "source": [
    "// $$jcpp_file: src/main.cpp\n",
    "// $$jcpp_build: mkdir -p bin && g++ -o3 -o bin/main src/main.cpp -fopenmp && TSP_FILE=\"./data/test.tsp\" bin/main\n",
    "\n",
    "\n",
    "#IFDEF JCPP_MAIN\n",
    "#DEFINE JCPP_MAIN_METHOD\n",
    "int main(){\n",
    "\t\tstd::cout << \"Hello World\" << std::endl;\n",
    "\t\treturn 0;\n",
    "}\n",
    "\n",
    "\n",
    "#ENDIF\n",
    "\n"
   ]
  },
  {
   "cell_type": "markdown",
   "metadata": {},
   "source": []
  }
 ],
 "metadata": {
  "kernelspec": {
   "display_name": "C++ (luca)",
   "language": "cpp",
   "name": "cpp"
  },
  "language_info": {
   "file_extension": ".cpp",
   "mimetype": "text/cpp",
   "name": "Cpp files"
  },
  "orig_nbformat": 4
 },
 "nbformat": 4,
 "nbformat_minor": 2
}
